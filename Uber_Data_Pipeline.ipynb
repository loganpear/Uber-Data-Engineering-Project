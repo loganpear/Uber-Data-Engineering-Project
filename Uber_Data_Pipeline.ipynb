{
  "metadata": {
    "kernelspec": {
      "name": "python",
      "display_name": "Python (Pyodide)",
      "language": "python"
    },
    "language_info": {
      "codemirror_mode": {
        "name": "python",
        "version": 3
      },
      "file_extension": ".py",
      "mimetype": "text/x-python",
      "name": "python",
      "nbconvert_exporter": "python",
      "pygments_lexer": "ipython3",
      "version": "3.8"
    }
  },
  "nbformat_minor": 4,
  "nbformat": 4,
  "cells": [
    {
      "cell_type": "markdown",
      "source": "# Uber Data Analytics\n### Star Schema Model - Data Engineering Project: Python Notebook 1\nThis notebook constructs a data model using Uber trip data with a star schema approach, creating dimension tables for details like passenger count, trip distance, rate codes, locations, datetime, and payment types. Each dimension table includes primary keys and descriptive attributes. These tables are then merged into a central fact table, consolidating key metrics and foreign keys for efficient analysis. The notebook ensures data integrity and organizes the model for streamlined querying and insights.\n\nNotebook By Logan Pearson - Project instructed by Darshil Parmar https://github.com/darshilparmar",
      "metadata": {}
    },
    {
      "cell_type": "markdown",
      "source": "# ✅ Section 1: Setting Up The Data\n---",
      "metadata": {}
    },
    {
      "cell_type": "markdown",
      "source": "### 1.1 Import Statements",
      "metadata": {}
    },
    {
      "cell_type": "code",
      "source": "import pandas as pd",
      "metadata": {
        "trusted": true
      },
      "outputs": [],
      "execution_count": 2
    },
    {
      "cell_type": "markdown",
      "source": "### 1.2 Reading The Data ",
      "metadata": {}
    },
    {
      "cell_type": "code",
      "source": "df = pd.read_csv(\"uber_data.csv\")\ndf.head()",
      "metadata": {
        "trusted": true
      },
      "outputs": [
        {
          "execution_count": 3,
          "output_type": "execute_result",
          "data": {
            "text/plain": "   VendorID tpep_pickup_datetime tpep_dropoff_datetime  passenger_count  \\\n0         1  2016-03-01 00:00:00   2016-03-01 00:07:55                1   \n1         1  2016-03-01 00:00:00   2016-03-01 00:11:06                1   \n2         2  2016-03-01 00:00:00   2016-03-01 00:31:06                2   \n3         2  2016-03-01 00:00:00   2016-03-01 00:00:00                3   \n4         2  2016-03-01 00:00:00   2016-03-01 00:00:00                5   \n\n   trip_distance  pickup_longitude  pickup_latitude  RatecodeID  \\\n0           2.50        -73.976746        40.765152           1   \n1           2.90        -73.983482        40.767925           1   \n2          19.98        -73.782021        40.644810           1   \n3          10.78        -73.863419        40.769814           1   \n4          30.43        -73.971741        40.792183           3   \n\n  store_and_fwd_flag  dropoff_longitude  dropoff_latitude  payment_type  \\\n0                  N         -74.004265         40.746128             1   \n1                  N         -74.005943         40.733166             1   \n2                  N         -73.974541         40.675770             1   \n3                  N         -73.969650         40.757767             1   \n4                  N         -74.177170         40.695053             1   \n\n   fare_amount  extra  mta_tax  tip_amount  tolls_amount  \\\n0          9.0    0.5      0.5        2.05          0.00   \n1         11.0    0.5      0.5        3.05          0.00   \n2         54.5    0.5      0.5        8.00          0.00   \n3         31.5    0.0      0.5        3.78          5.54   \n4         98.0    0.0      0.0        0.00         15.50   \n\n   improvement_surcharge  total_amount  \n0                    0.3         12.35  \n1                    0.3         15.35  \n2                    0.3         63.80  \n3                    0.3         41.62  \n4                    0.3        113.80  ",
            "text/html": "<div>\n<style scoped>\n    .dataframe tbody tr th:only-of-type {\n        vertical-align: middle;\n    }\n\n    .dataframe tbody tr th {\n        vertical-align: top;\n    }\n\n    .dataframe thead th {\n        text-align: right;\n    }\n</style>\n<table border=\"1\" class=\"dataframe\">\n  <thead>\n    <tr style=\"text-align: right;\">\n      <th></th>\n      <th>VendorID</th>\n      <th>tpep_pickup_datetime</th>\n      <th>tpep_dropoff_datetime</th>\n      <th>passenger_count</th>\n      <th>trip_distance</th>\n      <th>pickup_longitude</th>\n      <th>pickup_latitude</th>\n      <th>RatecodeID</th>\n      <th>store_and_fwd_flag</th>\n      <th>dropoff_longitude</th>\n      <th>dropoff_latitude</th>\n      <th>payment_type</th>\n      <th>fare_amount</th>\n      <th>extra</th>\n      <th>mta_tax</th>\n      <th>tip_amount</th>\n      <th>tolls_amount</th>\n      <th>improvement_surcharge</th>\n      <th>total_amount</th>\n    </tr>\n  </thead>\n  <tbody>\n    <tr>\n      <th>0</th>\n      <td>1</td>\n      <td>2016-03-01 00:00:00</td>\n      <td>2016-03-01 00:07:55</td>\n      <td>1</td>\n      <td>2.50</td>\n      <td>-73.976746</td>\n      <td>40.765152</td>\n      <td>1</td>\n      <td>N</td>\n      <td>-74.004265</td>\n      <td>40.746128</td>\n      <td>1</td>\n      <td>9.0</td>\n      <td>0.5</td>\n      <td>0.5</td>\n      <td>2.05</td>\n      <td>0.00</td>\n      <td>0.3</td>\n      <td>12.35</td>\n    </tr>\n    <tr>\n      <th>1</th>\n      <td>1</td>\n      <td>2016-03-01 00:00:00</td>\n      <td>2016-03-01 00:11:06</td>\n      <td>1</td>\n      <td>2.90</td>\n      <td>-73.983482</td>\n      <td>40.767925</td>\n      <td>1</td>\n      <td>N</td>\n      <td>-74.005943</td>\n      <td>40.733166</td>\n      <td>1</td>\n      <td>11.0</td>\n      <td>0.5</td>\n      <td>0.5</td>\n      <td>3.05</td>\n      <td>0.00</td>\n      <td>0.3</td>\n      <td>15.35</td>\n    </tr>\n    <tr>\n      <th>2</th>\n      <td>2</td>\n      <td>2016-03-01 00:00:00</td>\n      <td>2016-03-01 00:31:06</td>\n      <td>2</td>\n      <td>19.98</td>\n      <td>-73.782021</td>\n      <td>40.644810</td>\n      <td>1</td>\n      <td>N</td>\n      <td>-73.974541</td>\n      <td>40.675770</td>\n      <td>1</td>\n      <td>54.5</td>\n      <td>0.5</td>\n      <td>0.5</td>\n      <td>8.00</td>\n      <td>0.00</td>\n      <td>0.3</td>\n      <td>63.80</td>\n    </tr>\n    <tr>\n      <th>3</th>\n      <td>2</td>\n      <td>2016-03-01 00:00:00</td>\n      <td>2016-03-01 00:00:00</td>\n      <td>3</td>\n      <td>10.78</td>\n      <td>-73.863419</td>\n      <td>40.769814</td>\n      <td>1</td>\n      <td>N</td>\n      <td>-73.969650</td>\n      <td>40.757767</td>\n      <td>1</td>\n      <td>31.5</td>\n      <td>0.0</td>\n      <td>0.5</td>\n      <td>3.78</td>\n      <td>5.54</td>\n      <td>0.3</td>\n      <td>41.62</td>\n    </tr>\n    <tr>\n      <th>4</th>\n      <td>2</td>\n      <td>2016-03-01 00:00:00</td>\n      <td>2016-03-01 00:00:00</td>\n      <td>5</td>\n      <td>30.43</td>\n      <td>-73.971741</td>\n      <td>40.792183</td>\n      <td>3</td>\n      <td>N</td>\n      <td>-74.177170</td>\n      <td>40.695053</td>\n      <td>1</td>\n      <td>98.0</td>\n      <td>0.0</td>\n      <td>0.0</td>\n      <td>0.00</td>\n      <td>15.50</td>\n      <td>0.3</td>\n      <td>113.80</td>\n    </tr>\n  </tbody>\n</table>\n</div>"
          },
          "metadata": {}
        }
      ],
      "execution_count": 3
    },
    {
      "cell_type": "code",
      "source": "df.info()",
      "metadata": {
        "trusted": true
      },
      "outputs": [
        {
          "name": "stdout",
          "text": "<class 'pandas.core.frame.DataFrame'>\nRangeIndex: 100000 entries, 0 to 99999\nData columns (total 19 columns):\n #   Column                 Non-Null Count   Dtype  \n---  ------                 --------------   -----  \n 0   VendorID               100000 non-null  int64  \n 1   tpep_pickup_datetime   100000 non-null  object \n 2   tpep_dropoff_datetime  100000 non-null  object \n 3   passenger_count        100000 non-null  int64  \n 4   trip_distance          100000 non-null  float64\n 5   pickup_longitude       100000 non-null  float64\n 6   pickup_latitude        100000 non-null  float64\n 7   RatecodeID             100000 non-null  int64  \n 8   store_and_fwd_flag     100000 non-null  object \n 9   dropoff_longitude      100000 non-null  float64\n 10  dropoff_latitude       100000 non-null  float64\n 11  payment_type           100000 non-null  int64  \n 12  fare_amount            100000 non-null  float64\n 13  extra                  100000 non-null  float64\n 14  mta_tax                100000 non-null  float64\n 15  tip_amount             100000 non-null  float64\n 16  tolls_amount           100000 non-null  float64\n 17  improvement_surcharge  100000 non-null  float64\n 18  total_amount           100000 non-null  float64\ndtypes: float64(12), int64(4), object(3)\nmemory usage: 13.4+ MB\n",
          "output_type": "stream"
        }
      ],
      "execution_count": 4
    },
    {
      "cell_type": "markdown",
      "source": "### 1.3 Fixing Data Types",
      "metadata": {}
    },
    {
      "cell_type": "code",
      "source": "# since row's 1 and 2 are of Dtype object, we need to convert them to Dtype datetime\ndf['tpep_pickup_datetime'] = pd.to_datetime(df['tpep_pickup_datetime'])\ndf['tpep_dropoff_datetime'] = pd.to_datetime(df['tpep_dropoff_datetime'])",
      "metadata": {
        "trusted": true
      },
      "outputs": [],
      "execution_count": 5
    },
    {
      "cell_type": "code",
      "source": "# Drop duplicate records and reset the index\ndf = df.drop_duplicates().reset_index(drop=True)\n\n# set each trip's ID to simply be the index\ndf['trip_id'] = df.index\n\ndf.head()",
      "metadata": {
        "trusted": true
      },
      "outputs": [
        {
          "execution_count": 6,
          "output_type": "execute_result",
          "data": {
            "text/plain": "   VendorID tpep_pickup_datetime tpep_dropoff_datetime  passenger_count  \\\n0         1           2016-03-01   2016-03-01 00:07:55                1   \n1         1           2016-03-01   2016-03-01 00:11:06                1   \n2         2           2016-03-01   2016-03-01 00:31:06                2   \n3         2           2016-03-01   2016-03-01 00:00:00                3   \n4         2           2016-03-01   2016-03-01 00:00:00                5   \n\n   trip_distance  pickup_longitude  pickup_latitude  RatecodeID  \\\n0           2.50        -73.976746        40.765152           1   \n1           2.90        -73.983482        40.767925           1   \n2          19.98        -73.782021        40.644810           1   \n3          10.78        -73.863419        40.769814           1   \n4          30.43        -73.971741        40.792183           3   \n\n  store_and_fwd_flag  dropoff_longitude  dropoff_latitude  payment_type  \\\n0                  N         -74.004265         40.746128             1   \n1                  N         -74.005943         40.733166             1   \n2                  N         -73.974541         40.675770             1   \n3                  N         -73.969650         40.757767             1   \n4                  N         -74.177170         40.695053             1   \n\n   fare_amount  extra  mta_tax  tip_amount  tolls_amount  \\\n0          9.0    0.5      0.5        2.05          0.00   \n1         11.0    0.5      0.5        3.05          0.00   \n2         54.5    0.5      0.5        8.00          0.00   \n3         31.5    0.0      0.5        3.78          5.54   \n4         98.0    0.0      0.0        0.00         15.50   \n\n   improvement_surcharge  total_amount  trip_id  \n0                    0.3         12.35        0  \n1                    0.3         15.35        1  \n2                    0.3         63.80        2  \n3                    0.3         41.62        3  \n4                    0.3        113.80        4  ",
            "text/html": "<div>\n<style scoped>\n    .dataframe tbody tr th:only-of-type {\n        vertical-align: middle;\n    }\n\n    .dataframe tbody tr th {\n        vertical-align: top;\n    }\n\n    .dataframe thead th {\n        text-align: right;\n    }\n</style>\n<table border=\"1\" class=\"dataframe\">\n  <thead>\n    <tr style=\"text-align: right;\">\n      <th></th>\n      <th>VendorID</th>\n      <th>tpep_pickup_datetime</th>\n      <th>tpep_dropoff_datetime</th>\n      <th>passenger_count</th>\n      <th>trip_distance</th>\n      <th>pickup_longitude</th>\n      <th>pickup_latitude</th>\n      <th>RatecodeID</th>\n      <th>store_and_fwd_flag</th>\n      <th>dropoff_longitude</th>\n      <th>dropoff_latitude</th>\n      <th>payment_type</th>\n      <th>fare_amount</th>\n      <th>extra</th>\n      <th>mta_tax</th>\n      <th>tip_amount</th>\n      <th>tolls_amount</th>\n      <th>improvement_surcharge</th>\n      <th>total_amount</th>\n      <th>trip_id</th>\n    </tr>\n  </thead>\n  <tbody>\n    <tr>\n      <th>0</th>\n      <td>1</td>\n      <td>2016-03-01</td>\n      <td>2016-03-01 00:07:55</td>\n      <td>1</td>\n      <td>2.50</td>\n      <td>-73.976746</td>\n      <td>40.765152</td>\n      <td>1</td>\n      <td>N</td>\n      <td>-74.004265</td>\n      <td>40.746128</td>\n      <td>1</td>\n      <td>9.0</td>\n      <td>0.5</td>\n      <td>0.5</td>\n      <td>2.05</td>\n      <td>0.00</td>\n      <td>0.3</td>\n      <td>12.35</td>\n      <td>0</td>\n    </tr>\n    <tr>\n      <th>1</th>\n      <td>1</td>\n      <td>2016-03-01</td>\n      <td>2016-03-01 00:11:06</td>\n      <td>1</td>\n      <td>2.90</td>\n      <td>-73.983482</td>\n      <td>40.767925</td>\n      <td>1</td>\n      <td>N</td>\n      <td>-74.005943</td>\n      <td>40.733166</td>\n      <td>1</td>\n      <td>11.0</td>\n      <td>0.5</td>\n      <td>0.5</td>\n      <td>3.05</td>\n      <td>0.00</td>\n      <td>0.3</td>\n      <td>15.35</td>\n      <td>1</td>\n    </tr>\n    <tr>\n      <th>2</th>\n      <td>2</td>\n      <td>2016-03-01</td>\n      <td>2016-03-01 00:31:06</td>\n      <td>2</td>\n      <td>19.98</td>\n      <td>-73.782021</td>\n      <td>40.644810</td>\n      <td>1</td>\n      <td>N</td>\n      <td>-73.974541</td>\n      <td>40.675770</td>\n      <td>1</td>\n      <td>54.5</td>\n      <td>0.5</td>\n      <td>0.5</td>\n      <td>8.00</td>\n      <td>0.00</td>\n      <td>0.3</td>\n      <td>63.80</td>\n      <td>2</td>\n    </tr>\n    <tr>\n      <th>3</th>\n      <td>2</td>\n      <td>2016-03-01</td>\n      <td>2016-03-01 00:00:00</td>\n      <td>3</td>\n      <td>10.78</td>\n      <td>-73.863419</td>\n      <td>40.769814</td>\n      <td>1</td>\n      <td>N</td>\n      <td>-73.969650</td>\n      <td>40.757767</td>\n      <td>1</td>\n      <td>31.5</td>\n      <td>0.0</td>\n      <td>0.5</td>\n      <td>3.78</td>\n      <td>5.54</td>\n      <td>0.3</td>\n      <td>41.62</td>\n      <td>3</td>\n    </tr>\n    <tr>\n      <th>4</th>\n      <td>2</td>\n      <td>2016-03-01</td>\n      <td>2016-03-01 00:00:00</td>\n      <td>5</td>\n      <td>30.43</td>\n      <td>-73.971741</td>\n      <td>40.792183</td>\n      <td>3</td>\n      <td>N</td>\n      <td>-74.177170</td>\n      <td>40.695053</td>\n      <td>1</td>\n      <td>98.0</td>\n      <td>0.0</td>\n      <td>0.0</td>\n      <td>0.00</td>\n      <td>15.50</td>\n      <td>0.3</td>\n      <td>113.80</td>\n      <td>4</td>\n    </tr>\n  </tbody>\n</table>\n</div>"
          },
          "metadata": {}
        }
      ],
      "execution_count": 6
    },
    {
      "cell_type": "markdown",
      "source": "# ✅ Section 2: Creating Dimensions\n---",
      "metadata": {}
    },
    {
      "cell_type": "markdown",
      "source": "### 2.1 Datetime Dimension",
      "metadata": {}
    },
    {
      "cell_type": "code",
      "source": "# Creating datetime dimension: which will store date and time-related information\ndatetime_dim = df[['tpep_pickup_datetime','tpep_dropoff_datetime']].reset_index(drop=True)\n\n# Individualizing time aspects and assigning each their own column\n\n# For pick up\ndatetime_dim['pick_hour'] = datetime_dim['tpep_pickup_datetime'].dt.hour\ndatetime_dim['pick_day'] = datetime_dim['tpep_pickup_datetime'].dt.day\ndatetime_dim['pick_month'] = datetime_dim['tpep_pickup_datetime'].dt.month\ndatetime_dim['pick_year'] = datetime_dim['tpep_pickup_datetime'].dt.year\ndatetime_dim['pick_weekday'] = datetime_dim['tpep_pickup_datetime'].dt.weekday\n\n# For drop off\ndatetime_dim['drop_hour'] = datetime_dim['tpep_dropoff_datetime'].dt.hour\ndatetime_dim['drop_day'] = datetime_dim['tpep_dropoff_datetime'].dt.day\ndatetime_dim['drop_month'] = datetime_dim['tpep_dropoff_datetime'].dt.month\ndatetime_dim['drop_year'] = datetime_dim['tpep_dropoff_datetime'].dt.year\ndatetime_dim['drop_weekday'] = datetime_dim['tpep_dropoff_datetime'].dt.weekday\n\n# Setting the index as the primary key for the datetime dimension table (foreign key in the fact table)\ndatetime_dim['datetime_id'] = datetime_dim.index\n\n# Rearrange columns for organization\ndatetime_dim = datetime_dim[['datetime_id', 'tpep_pickup_datetime', 'pick_hour', 'pick_day', 'pick_month', 'pick_year', 'pick_weekday',\n                             'tpep_dropoff_datetime', 'drop_hour', 'drop_day', 'drop_month', 'drop_year', 'drop_weekday']]\n\ndatetime_dim.head()",
      "metadata": {
        "trusted": true
      },
      "outputs": [
        {
          "execution_count": 7,
          "output_type": "execute_result",
          "data": {
            "text/plain": "   datetime_id tpep_pickup_datetime  pick_hour  pick_day  pick_month  \\\n0            0           2016-03-01          0         1           3   \n1            1           2016-03-01          0         1           3   \n2            2           2016-03-01          0         1           3   \n3            3           2016-03-01          0         1           3   \n4            4           2016-03-01          0         1           3   \n\n   pick_year  pick_weekday tpep_dropoff_datetime  drop_hour  drop_day  \\\n0       2016             1   2016-03-01 00:07:55          0         1   \n1       2016             1   2016-03-01 00:11:06          0         1   \n2       2016             1   2016-03-01 00:31:06          0         1   \n3       2016             1   2016-03-01 00:00:00          0         1   \n4       2016             1   2016-03-01 00:00:00          0         1   \n\n   drop_month  drop_year  drop_weekday  \n0           3       2016             1  \n1           3       2016             1  \n2           3       2016             1  \n3           3       2016             1  \n4           3       2016             1  ",
            "text/html": "<div>\n<style scoped>\n    .dataframe tbody tr th:only-of-type {\n        vertical-align: middle;\n    }\n\n    .dataframe tbody tr th {\n        vertical-align: top;\n    }\n\n    .dataframe thead th {\n        text-align: right;\n    }\n</style>\n<table border=\"1\" class=\"dataframe\">\n  <thead>\n    <tr style=\"text-align: right;\">\n      <th></th>\n      <th>datetime_id</th>\n      <th>tpep_pickup_datetime</th>\n      <th>pick_hour</th>\n      <th>pick_day</th>\n      <th>pick_month</th>\n      <th>pick_year</th>\n      <th>pick_weekday</th>\n      <th>tpep_dropoff_datetime</th>\n      <th>drop_hour</th>\n      <th>drop_day</th>\n      <th>drop_month</th>\n      <th>drop_year</th>\n      <th>drop_weekday</th>\n    </tr>\n  </thead>\n  <tbody>\n    <tr>\n      <th>0</th>\n      <td>0</td>\n      <td>2016-03-01</td>\n      <td>0</td>\n      <td>1</td>\n      <td>3</td>\n      <td>2016</td>\n      <td>1</td>\n      <td>2016-03-01 00:07:55</td>\n      <td>0</td>\n      <td>1</td>\n      <td>3</td>\n      <td>2016</td>\n      <td>1</td>\n    </tr>\n    <tr>\n      <th>1</th>\n      <td>1</td>\n      <td>2016-03-01</td>\n      <td>0</td>\n      <td>1</td>\n      <td>3</td>\n      <td>2016</td>\n      <td>1</td>\n      <td>2016-03-01 00:11:06</td>\n      <td>0</td>\n      <td>1</td>\n      <td>3</td>\n      <td>2016</td>\n      <td>1</td>\n    </tr>\n    <tr>\n      <th>2</th>\n      <td>2</td>\n      <td>2016-03-01</td>\n      <td>0</td>\n      <td>1</td>\n      <td>3</td>\n      <td>2016</td>\n      <td>1</td>\n      <td>2016-03-01 00:31:06</td>\n      <td>0</td>\n      <td>1</td>\n      <td>3</td>\n      <td>2016</td>\n      <td>1</td>\n    </tr>\n    <tr>\n      <th>3</th>\n      <td>3</td>\n      <td>2016-03-01</td>\n      <td>0</td>\n      <td>1</td>\n      <td>3</td>\n      <td>2016</td>\n      <td>1</td>\n      <td>2016-03-01 00:00:00</td>\n      <td>0</td>\n      <td>1</td>\n      <td>3</td>\n      <td>2016</td>\n      <td>1</td>\n    </tr>\n    <tr>\n      <th>4</th>\n      <td>4</td>\n      <td>2016-03-01</td>\n      <td>0</td>\n      <td>1</td>\n      <td>3</td>\n      <td>2016</td>\n      <td>1</td>\n      <td>2016-03-01 00:00:00</td>\n      <td>0</td>\n      <td>1</td>\n      <td>3</td>\n      <td>2016</td>\n      <td>1</td>\n    </tr>\n  </tbody>\n</table>\n</div>"
          },
          "metadata": {}
        }
      ],
      "execution_count": 7
    },
    {
      "cell_type": "markdown",
      "source": "### 2.2 Passenger Count Dimension",
      "metadata": {}
    },
    {
      "cell_type": "code",
      "source": "# Creating passenger_count dimension: which will store passenger count-related information\npassenger_count_dim = df[['passenger_count']].reset_index(drop=True)\npassenger_count_dim['passenger_count_id'] = passenger_count_dim.index  \npassenger_count_dim = passenger_count_dim[['passenger_count_id', 'passenger_count']]  \npassenger_count_dim.head()",
      "metadata": {
        "trusted": true
      },
      "outputs": [
        {
          "execution_count": 8,
          "output_type": "execute_result",
          "data": {
            "text/plain": "   passenger_count_id  passenger_count\n0                   0                1\n1                   1                1\n2                   2                2\n3                   3                3\n4                   4                5",
            "text/html": "<div>\n<style scoped>\n    .dataframe tbody tr th:only-of-type {\n        vertical-align: middle;\n    }\n\n    .dataframe tbody tr th {\n        vertical-align: top;\n    }\n\n    .dataframe thead th {\n        text-align: right;\n    }\n</style>\n<table border=\"1\" class=\"dataframe\">\n  <thead>\n    <tr style=\"text-align: right;\">\n      <th></th>\n      <th>passenger_count_id</th>\n      <th>passenger_count</th>\n    </tr>\n  </thead>\n  <tbody>\n    <tr>\n      <th>0</th>\n      <td>0</td>\n      <td>1</td>\n    </tr>\n    <tr>\n      <th>1</th>\n      <td>1</td>\n      <td>1</td>\n    </tr>\n    <tr>\n      <th>2</th>\n      <td>2</td>\n      <td>2</td>\n    </tr>\n    <tr>\n      <th>3</th>\n      <td>3</td>\n      <td>3</td>\n    </tr>\n    <tr>\n      <th>4</th>\n      <td>4</td>\n      <td>5</td>\n    </tr>\n  </tbody>\n</table>\n</div>"
          },
          "metadata": {}
        }
      ],
      "execution_count": 8
    },
    {
      "cell_type": "markdown",
      "source": "### 2.3 Trip Distance Dimension",
      "metadata": {}
    },
    {
      "cell_type": "code",
      "source": "# Creating trip_distance dimension: which will store trip distance-related information\ntrip_distance_dim = df[['trip_distance']].reset_index(drop=True)  \ntrip_distance_dim['trip_distance_id'] = trip_distance_dim.index  \ntrip_distance_dim = trip_distance_dim[['trip_distance_id', 'trip_distance']]\ntrip_distance_dim.head()",
      "metadata": {
        "trusted": true
      },
      "outputs": [
        {
          "execution_count": 9,
          "output_type": "execute_result",
          "data": {
            "text/plain": "   trip_distance_id  trip_distance\n0                 0           2.50\n1                 1           2.90\n2                 2          19.98\n3                 3          10.78\n4                 4          30.43",
            "text/html": "<div>\n<style scoped>\n    .dataframe tbody tr th:only-of-type {\n        vertical-align: middle;\n    }\n\n    .dataframe tbody tr th {\n        vertical-align: top;\n    }\n\n    .dataframe thead th {\n        text-align: right;\n    }\n</style>\n<table border=\"1\" class=\"dataframe\">\n  <thead>\n    <tr style=\"text-align: right;\">\n      <th></th>\n      <th>trip_distance_id</th>\n      <th>trip_distance</th>\n    </tr>\n  </thead>\n  <tbody>\n    <tr>\n      <th>0</th>\n      <td>0</td>\n      <td>2.50</td>\n    </tr>\n    <tr>\n      <th>1</th>\n      <td>1</td>\n      <td>2.90</td>\n    </tr>\n    <tr>\n      <th>2</th>\n      <td>2</td>\n      <td>19.98</td>\n    </tr>\n    <tr>\n      <th>3</th>\n      <td>3</td>\n      <td>10.78</td>\n    </tr>\n    <tr>\n      <th>4</th>\n      <td>4</td>\n      <td>30.43</td>\n    </tr>\n  </tbody>\n</table>\n</div>"
          },
          "metadata": {}
        }
      ],
      "execution_count": 9
    },
    {
      "cell_type": "markdown",
      "source": "### 2.4 Rate Code Dimension",
      "metadata": {}
    },
    {
      "cell_type": "code",
      "source": "# Creating a dictionary to map RatecodeID to meaningful rate type names\nrate_code_type = {\n    1: \"Standard rate\",\n    2: \"JFK\",\n    3: \"Newark\",\n    4: \"Nassau or Westchester\",\n    5: \"Negotiated fare\",\n    6: \"Group ride\"\n}\n\n# Creating rate_code dimension: which will store rate code-related information\nrate_code_dim = df[['RatecodeID']].reset_index(drop=True)\nrate_code_dim['rate_code_id'] = rate_code_dim.index\n\n# Mapping RatecodeID to a more meaningful name using the rate_code_type dictionary\nrate_code_dim['rate_code_name'] = rate_code_dim['RatecodeID'].map(rate_code_type)\n\nrate_code_dim = rate_code_dim[['rate_code_id', 'RatecodeID', 'rate_code_name']]\nrate_code_dim.head()",
      "metadata": {
        "trusted": true
      },
      "outputs": [
        {
          "execution_count": 10,
          "output_type": "execute_result",
          "data": {
            "text/plain": "   rate_code_id  RatecodeID rate_code_name\n0             0           1  Standard rate\n1             1           1  Standard rate\n2             2           1  Standard rate\n3             3           1  Standard rate\n4             4           3         Newark",
            "text/html": "<div>\n<style scoped>\n    .dataframe tbody tr th:only-of-type {\n        vertical-align: middle;\n    }\n\n    .dataframe tbody tr th {\n        vertical-align: top;\n    }\n\n    .dataframe thead th {\n        text-align: right;\n    }\n</style>\n<table border=\"1\" class=\"dataframe\">\n  <thead>\n    <tr style=\"text-align: right;\">\n      <th></th>\n      <th>rate_code_id</th>\n      <th>RatecodeID</th>\n      <th>rate_code_name</th>\n    </tr>\n  </thead>\n  <tbody>\n    <tr>\n      <th>0</th>\n      <td>0</td>\n      <td>1</td>\n      <td>Standard rate</td>\n    </tr>\n    <tr>\n      <th>1</th>\n      <td>1</td>\n      <td>1</td>\n      <td>Standard rate</td>\n    </tr>\n    <tr>\n      <th>2</th>\n      <td>2</td>\n      <td>1</td>\n      <td>Standard rate</td>\n    </tr>\n    <tr>\n      <th>3</th>\n      <td>3</td>\n      <td>1</td>\n      <td>Standard rate</td>\n    </tr>\n    <tr>\n      <th>4</th>\n      <td>4</td>\n      <td>3</td>\n      <td>Newark</td>\n    </tr>\n  </tbody>\n</table>\n</div>"
          },
          "metadata": {}
        }
      ],
      "execution_count": 10
    },
    {
      "cell_type": "markdown",
      "source": "### 2.5 Pickup Location Dimension",
      "metadata": {}
    },
    {
      "cell_type": "code",
      "source": "# Creating pickup_location dimension: storing pickup latitude and longitude information\npickup_location_dim = df[['pickup_longitude', 'pickup_latitude']].reset_index(drop=True)\npickup_location_dim['pickup_location_id'] = pickup_location_dim.index\npickup_location_dim = pickup_location_dim[['pickup_location_id', 'pickup_latitude', 'pickup_longitude']] \npickup_location_dim.head()",
      "metadata": {
        "trusted": true
      },
      "outputs": [
        {
          "execution_count": 11,
          "output_type": "execute_result",
          "data": {
            "text/plain": "   pickup_location_id  pickup_latitude  pickup_longitude\n0                   0        40.765152        -73.976746\n1                   1        40.767925        -73.983482\n2                   2        40.644810        -73.782021\n3                   3        40.769814        -73.863419\n4                   4        40.792183        -73.971741",
            "text/html": "<div>\n<style scoped>\n    .dataframe tbody tr th:only-of-type {\n        vertical-align: middle;\n    }\n\n    .dataframe tbody tr th {\n        vertical-align: top;\n    }\n\n    .dataframe thead th {\n        text-align: right;\n    }\n</style>\n<table border=\"1\" class=\"dataframe\">\n  <thead>\n    <tr style=\"text-align: right;\">\n      <th></th>\n      <th>pickup_location_id</th>\n      <th>pickup_latitude</th>\n      <th>pickup_longitude</th>\n    </tr>\n  </thead>\n  <tbody>\n    <tr>\n      <th>0</th>\n      <td>0</td>\n      <td>40.765152</td>\n      <td>-73.976746</td>\n    </tr>\n    <tr>\n      <th>1</th>\n      <td>1</td>\n      <td>40.767925</td>\n      <td>-73.983482</td>\n    </tr>\n    <tr>\n      <th>2</th>\n      <td>2</td>\n      <td>40.644810</td>\n      <td>-73.782021</td>\n    </tr>\n    <tr>\n      <th>3</th>\n      <td>3</td>\n      <td>40.769814</td>\n      <td>-73.863419</td>\n    </tr>\n    <tr>\n      <th>4</th>\n      <td>4</td>\n      <td>40.792183</td>\n      <td>-73.971741</td>\n    </tr>\n  </tbody>\n</table>\n</div>"
          },
          "metadata": {}
        }
      ],
      "execution_count": 11
    },
    {
      "cell_type": "markdown",
      "source": "### 2.6 Drop Off Dimension",
      "metadata": {}
    },
    {
      "cell_type": "code",
      "source": "# Creating dropoff_location dimension: storing dropoff latitude and longitude information\ndropoff_location_dim = df[['dropoff_longitude', 'dropoff_latitude']].reset_index(drop=True)\ndropoff_location_dim['dropoff_location_id'] = dropoff_location_dim.index\ndropoff_location_dim = dropoff_location_dim[['dropoff_location_id', 'dropoff_latitude', 'dropoff_longitude']]\ndropoff_location_dim.head()",
      "metadata": {
        "trusted": true
      },
      "outputs": [
        {
          "execution_count": 12,
          "output_type": "execute_result",
          "data": {
            "text/plain": "   dropoff_location_id  dropoff_latitude  dropoff_longitude\n0                    0         40.746128         -74.004265\n1                    1         40.733166         -74.005943\n2                    2         40.675770         -73.974541\n3                    3         40.757767         -73.969650\n4                    4         40.695053         -74.177170",
            "text/html": "<div>\n<style scoped>\n    .dataframe tbody tr th:only-of-type {\n        vertical-align: middle;\n    }\n\n    .dataframe tbody tr th {\n        vertical-align: top;\n    }\n\n    .dataframe thead th {\n        text-align: right;\n    }\n</style>\n<table border=\"1\" class=\"dataframe\">\n  <thead>\n    <tr style=\"text-align: right;\">\n      <th></th>\n      <th>dropoff_location_id</th>\n      <th>dropoff_latitude</th>\n      <th>dropoff_longitude</th>\n    </tr>\n  </thead>\n  <tbody>\n    <tr>\n      <th>0</th>\n      <td>0</td>\n      <td>40.746128</td>\n      <td>-74.004265</td>\n    </tr>\n    <tr>\n      <th>1</th>\n      <td>1</td>\n      <td>40.733166</td>\n      <td>-74.005943</td>\n    </tr>\n    <tr>\n      <th>2</th>\n      <td>2</td>\n      <td>40.675770</td>\n      <td>-73.974541</td>\n    </tr>\n    <tr>\n      <th>3</th>\n      <td>3</td>\n      <td>40.757767</td>\n      <td>-73.969650</td>\n    </tr>\n    <tr>\n      <th>4</th>\n      <td>4</td>\n      <td>40.695053</td>\n      <td>-74.177170</td>\n    </tr>\n  </tbody>\n</table>\n</div>"
          },
          "metadata": {}
        }
      ],
      "execution_count": 12
    },
    {
      "cell_type": "markdown",
      "source": "### 2.7 Payment Type Dimension",
      "metadata": {}
    },
    {
      "cell_type": "code",
      "source": "# Creating a dictionary to map payment_type IDs to meaningful payment type names\npayment_type_name = {\n    1: \"Credit card\",\n    2: \"Cash\",\n    3: \"No charge\",\n    4: \"Dispute\",\n    5: \"Unknown\",\n    6: \"Voided trip\"\n}\n\n# Creating payment_type dimension: which will store payment type-related information\npayment_type_dim = df[['payment_type']].reset_index(drop=True)\npayment_type_dim['payment_type_id'] = payment_type_dim.index\n\n# Mapping payment_type ID to a more meaningful name using the payment_type_name dictionary\npayment_type_dim['payment_type_name'] = payment_type_dim['payment_type'].map(payment_type_name)\n\npayment_type_dim = payment_type_dim[['payment_type_id', 'payment_type', 'payment_type_name']]\npayment_type_dim.head()",
      "metadata": {
        "trusted": true
      },
      "outputs": [
        {
          "execution_count": 13,
          "output_type": "execute_result",
          "data": {
            "text/plain": "   payment_type_id  payment_type payment_type_name\n0                0             1       Credit card\n1                1             1       Credit card\n2                2             1       Credit card\n3                3             1       Credit card\n4                4             1       Credit card",
            "text/html": "<div>\n<style scoped>\n    .dataframe tbody tr th:only-of-type {\n        vertical-align: middle;\n    }\n\n    .dataframe tbody tr th {\n        vertical-align: top;\n    }\n\n    .dataframe thead th {\n        text-align: right;\n    }\n</style>\n<table border=\"1\" class=\"dataframe\">\n  <thead>\n    <tr style=\"text-align: right;\">\n      <th></th>\n      <th>payment_type_id</th>\n      <th>payment_type</th>\n      <th>payment_type_name</th>\n    </tr>\n  </thead>\n  <tbody>\n    <tr>\n      <th>0</th>\n      <td>0</td>\n      <td>1</td>\n      <td>Credit card</td>\n    </tr>\n    <tr>\n      <th>1</th>\n      <td>1</td>\n      <td>1</td>\n      <td>Credit card</td>\n    </tr>\n    <tr>\n      <th>2</th>\n      <td>2</td>\n      <td>1</td>\n      <td>Credit card</td>\n    </tr>\n    <tr>\n      <th>3</th>\n      <td>3</td>\n      <td>1</td>\n      <td>Credit card</td>\n    </tr>\n    <tr>\n      <th>4</th>\n      <td>4</td>\n      <td>1</td>\n      <td>Credit card</td>\n    </tr>\n  </tbody>\n</table>\n</div>"
          },
          "metadata": {}
        }
      ],
      "execution_count": 13
    },
    {
      "cell_type": "markdown",
      "source": "# ✅ Section 3: Managing The Fact Table",
      "metadata": {}
    },
    {
      "cell_type": "markdown",
      "source": "### 3.1 Creating the Fact Table",
      "metadata": {}
    },
    {
      "cell_type": "code",
      "source": "# Merging the original DataFrame with the following dimension tables on keys (IDs)\nfact_table = df.merge(passenger_count_dim, left_on='trip_id', right_on='passenger_count_id') \\\n             .merge(trip_distance_dim, left_on='trip_id', right_on='trip_distance_id') \\\n             .merge(rate_code_dim, left_on='trip_id', right_on='rate_code_id') \\\n             .merge(pickup_location_dim, left_on='trip_id', right_on='pickup_location_id') \\\n             .merge(dropoff_location_dim, left_on='trip_id', right_on='dropoff_location_id') \\\n             .merge(datetime_dim, left_on='trip_id', right_on='datetime_id') \\\n             .merge(payment_type_dim, left_on='trip_id', right_on='payment_type_id') \\\n             \n# Selecting specific columns to be included in the final fact table:\nfact_table = fact_table[['trip_id', 'VendorID', 'datetime_id', 'passenger_count_id', \n                         'trip_distance_id', 'rate_code_id', 'store_and_fwd_flag', \n                         'pickup_location_id', 'dropoff_location_id', 'payment_type_id', \n                         'fare_amount', 'extra', 'mta_tax', 'tip_amount', 'tolls_amount', \n                         'improvement_surcharge', 'total_amount']]\n\nfact_table.head()",
      "metadata": {
        "trusted": true
      },
      "outputs": [
        {
          "execution_count": 14,
          "output_type": "execute_result",
          "data": {
            "text/plain": "   trip_id  VendorID  datetime_id  passenger_count_id  trip_distance_id  \\\n0        0         1            0                   0                 0   \n1        1         1            1                   1                 1   \n2        2         2            2                   2                 2   \n3        3         2            3                   3                 3   \n4        4         2            4                   4                 4   \n\n   rate_code_id store_and_fwd_flag  pickup_location_id  dropoff_location_id  \\\n0             0                  N                   0                    0   \n1             1                  N                   1                    1   \n2             2                  N                   2                    2   \n3             3                  N                   3                    3   \n4             4                  N                   4                    4   \n\n   payment_type_id  fare_amount  extra  mta_tax  tip_amount  tolls_amount  \\\n0                0          9.0    0.5      0.5        2.05          0.00   \n1                1         11.0    0.5      0.5        3.05          0.00   \n2                2         54.5    0.5      0.5        8.00          0.00   \n3                3         31.5    0.0      0.5        3.78          5.54   \n4                4         98.0    0.0      0.0        0.00         15.50   \n\n   improvement_surcharge  total_amount  \n0                    0.3         12.35  \n1                    0.3         15.35  \n2                    0.3         63.80  \n3                    0.3         41.62  \n4                    0.3        113.80  ",
            "text/html": "<div>\n<style scoped>\n    .dataframe tbody tr th:only-of-type {\n        vertical-align: middle;\n    }\n\n    .dataframe tbody tr th {\n        vertical-align: top;\n    }\n\n    .dataframe thead th {\n        text-align: right;\n    }\n</style>\n<table border=\"1\" class=\"dataframe\">\n  <thead>\n    <tr style=\"text-align: right;\">\n      <th></th>\n      <th>trip_id</th>\n      <th>VendorID</th>\n      <th>datetime_id</th>\n      <th>passenger_count_id</th>\n      <th>trip_distance_id</th>\n      <th>rate_code_id</th>\n      <th>store_and_fwd_flag</th>\n      <th>pickup_location_id</th>\n      <th>dropoff_location_id</th>\n      <th>payment_type_id</th>\n      <th>fare_amount</th>\n      <th>extra</th>\n      <th>mta_tax</th>\n      <th>tip_amount</th>\n      <th>tolls_amount</th>\n      <th>improvement_surcharge</th>\n      <th>total_amount</th>\n    </tr>\n  </thead>\n  <tbody>\n    <tr>\n      <th>0</th>\n      <td>0</td>\n      <td>1</td>\n      <td>0</td>\n      <td>0</td>\n      <td>0</td>\n      <td>0</td>\n      <td>N</td>\n      <td>0</td>\n      <td>0</td>\n      <td>0</td>\n      <td>9.0</td>\n      <td>0.5</td>\n      <td>0.5</td>\n      <td>2.05</td>\n      <td>0.00</td>\n      <td>0.3</td>\n      <td>12.35</td>\n    </tr>\n    <tr>\n      <th>1</th>\n      <td>1</td>\n      <td>1</td>\n      <td>1</td>\n      <td>1</td>\n      <td>1</td>\n      <td>1</td>\n      <td>N</td>\n      <td>1</td>\n      <td>1</td>\n      <td>1</td>\n      <td>11.0</td>\n      <td>0.5</td>\n      <td>0.5</td>\n      <td>3.05</td>\n      <td>0.00</td>\n      <td>0.3</td>\n      <td>15.35</td>\n    </tr>\n    <tr>\n      <th>2</th>\n      <td>2</td>\n      <td>2</td>\n      <td>2</td>\n      <td>2</td>\n      <td>2</td>\n      <td>2</td>\n      <td>N</td>\n      <td>2</td>\n      <td>2</td>\n      <td>2</td>\n      <td>54.5</td>\n      <td>0.5</td>\n      <td>0.5</td>\n      <td>8.00</td>\n      <td>0.00</td>\n      <td>0.3</td>\n      <td>63.80</td>\n    </tr>\n    <tr>\n      <th>3</th>\n      <td>3</td>\n      <td>2</td>\n      <td>3</td>\n      <td>3</td>\n      <td>3</td>\n      <td>3</td>\n      <td>N</td>\n      <td>3</td>\n      <td>3</td>\n      <td>3</td>\n      <td>31.5</td>\n      <td>0.0</td>\n      <td>0.5</td>\n      <td>3.78</td>\n      <td>5.54</td>\n      <td>0.3</td>\n      <td>41.62</td>\n    </tr>\n    <tr>\n      <th>4</th>\n      <td>4</td>\n      <td>2</td>\n      <td>4</td>\n      <td>4</td>\n      <td>4</td>\n      <td>4</td>\n      <td>N</td>\n      <td>4</td>\n      <td>4</td>\n      <td>4</td>\n      <td>98.0</td>\n      <td>0.0</td>\n      <td>0.0</td>\n      <td>0.00</td>\n      <td>15.50</td>\n      <td>0.3</td>\n      <td>113.80</td>\n    </tr>\n  </tbody>\n</table>\n</div>"
          },
          "metadata": {}
        }
      ],
      "execution_count": 14
    },
    {
      "cell_type": "markdown",
      "source": "### 3.2 Checking Fact Table Columns",
      "metadata": {}
    },
    {
      "cell_type": "code",
      "source": "fact_table.columns",
      "metadata": {
        "trusted": true
      },
      "outputs": [
        {
          "execution_count": 15,
          "output_type": "execute_result",
          "data": {
            "text/plain": "Index(['trip_id', 'VendorID', 'datetime_id', 'passenger_count_id',\n       'trip_distance_id', 'rate_code_id', 'store_and_fwd_flag',\n       'pickup_location_id', 'dropoff_location_id', 'payment_type_id',\n       'fare_amount', 'extra', 'mta_tax', 'tip_amount', 'tolls_amount',\n       'improvement_surcharge', 'total_amount'],\n      dtype='object')"
          },
          "metadata": {}
        }
      ],
      "execution_count": 15
    }
  ]
}
